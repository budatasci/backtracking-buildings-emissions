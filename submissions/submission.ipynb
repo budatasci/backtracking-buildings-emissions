{
 "cells": [
  {
   "cell_type": "code",
   "execution_count": 1,
   "metadata": {},
   "outputs": [],
   "source": [
    "import pandas as pd\n",
    "import numpy as np\n",
    "from tensorflow import keras\n",
    "from tensorflow.keras import layers\n"
   ]
  },
  {
   "cell_type": "code",
   "execution_count": 2,
   "metadata": {},
   "outputs": [],
   "source": [
    "def kWh_to_kBTu(electricity):\n",
    "    \"Converts kilowatt-hours(kWh) to kilobtus(kBtu)\"\n",
    "    return electricity*3.4121\n",
    "\n",
    "def therms_to_kBTu(gas):\n",
    "    \"Converts therms(thm) to kilobtus(kBtu)\"\n",
    "    return gas*99.976\n",
    "\n",
    "def gallons_to_kBtu(oil):\n",
    "    \"Converts gallons to kilobtus(kBtu)\"\n",
    "    return oil*139\n",
    "\n",
    "def eui(E, G, O, GSF): \n",
    "    \"\"\"\n",
    "    Calculates energy use intensity given energy uses and building gross square footage. \n",
    "    : param E - electricity use in kBtu\n",
    "    : param G - gas use in kBtu\n",
    "    : param O - natural oil use in kBtu\n",
    "    : param GSF - building gross square footage\n",
    "    \"\"\"\n",
    "    annual_energy_use = E + G + O\n",
    "    return annual_energy_use/GSF\n",
    "   "
   ]
  },
  {
   "cell_type": "code",
   "execution_count": 3,
   "metadata": {},
   "outputs": [],
   "source": [
    "research_data = pd.read_csv('../data/research.csv', skiprows= 1)\n",
    "predictions_data = pd.read_csv('../data/predictions.csv')\n",
    "residential_data = pd.read_csv('../data/residential.csv', skiprows=1)"
   ]
  },
  {
   "cell_type": "code",
   "execution_count": 4,
   "metadata": {},
   "outputs": [
    {
     "data": {
      "text/html": [
       "<div>\n",
       "<style scoped>\n",
       "    .dataframe tbody tr th:only-of-type {\n",
       "        vertical-align: middle;\n",
       "    }\n",
       "\n",
       "    .dataframe tbody tr th {\n",
       "        vertical-align: top;\n",
       "    }\n",
       "\n",
       "    .dataframe thead th {\n",
       "        text-align: right;\n",
       "    }\n",
       "</style>\n",
       "<table border=\"1\" class=\"dataframe\">\n",
       "  <thead>\n",
       "    <tr style=\"text-align: right;\">\n",
       "      <th></th>\n",
       "      <th>Code</th>\n",
       "      <th>Address</th>\n",
       "      <th>ESPM Property Type</th>\n",
       "      <th>space@BU Property Type</th>\n",
       "      <th>2006Area</th>\n",
       "    </tr>\n",
       "  </thead>\n",
       "  <tbody>\n",
       "    <tr>\n",
       "      <th>0</th>\n",
       "      <td>600</td>\n",
       "      <td>33 Harry Agganis Way</td>\n",
       "      <td>Residence Hall/Dormitory</td>\n",
       "      <td>Residential</td>\n",
       "      <td>400268.0</td>\n",
       "    </tr>\n",
       "    <tr>\n",
       "      <th>1</th>\n",
       "      <td>918</td>\n",
       "      <td>815 Albany Street</td>\n",
       "      <td>Multifamily Housing</td>\n",
       "      <td>Residential</td>\n",
       "      <td>102126.0</td>\n",
       "    </tr>\n",
       "    <tr>\n",
       "      <th>2</th>\n",
       "      <td>972</td>\n",
       "      <td>Peabody Hall (210 Riverway)</td>\n",
       "      <td>Multifamily Housing</td>\n",
       "      <td>Residential</td>\n",
       "      <td>58637.0</td>\n",
       "    </tr>\n",
       "    <tr>\n",
       "      <th>3</th>\n",
       "      <td>973</td>\n",
       "      <td>Riverway House (160-162 Riverway)</td>\n",
       "      <td>Residence Hall/Dormitory</td>\n",
       "      <td>Residential</td>\n",
       "      <td>31106.0</td>\n",
       "    </tr>\n",
       "    <tr>\n",
       "      <th>4</th>\n",
       "      <td>975</td>\n",
       "      <td>Campus Center and Student Residence (150 River...</td>\n",
       "      <td>Residence Hall/Dormitory</td>\n",
       "      <td>Residential</td>\n",
       "      <td>57107.0</td>\n",
       "    </tr>\n",
       "    <tr>\n",
       "      <th>5</th>\n",
       "      <td>969</td>\n",
       "      <td>37 Pilgrim Road</td>\n",
       "      <td>Residence Hall/Dormitory</td>\n",
       "      <td>Residential</td>\n",
       "      <td>NaN</td>\n",
       "    </tr>\n",
       "    <tr>\n",
       "      <th>6</th>\n",
       "      <td>974</td>\n",
       "      <td>154 Riverway</td>\n",
       "      <td>Residence Hall/Dormitory</td>\n",
       "      <td>Residential</td>\n",
       "      <td>NaN</td>\n",
       "    </tr>\n",
       "    <tr>\n",
       "      <th>7</th>\n",
       "      <td>608</td>\n",
       "      <td>610 Commonwealth Avenue</td>\n",
       "      <td>Laboratory</td>\n",
       "      <td>Research</td>\n",
       "      <td>170000.0</td>\n",
       "    </tr>\n",
       "  </tbody>\n",
       "</table>\n",
       "</div>"
      ],
      "text/plain": [
       "   Code                                            Address  \\\n",
       "0   600                               33 Harry Agganis Way   \n",
       "1   918                                  815 Albany Street   \n",
       "2   972                        Peabody Hall (210 Riverway)   \n",
       "3   973                  Riverway House (160-162 Riverway)   \n",
       "4   975  Campus Center and Student Residence (150 River...   \n",
       "5   969                                    37 Pilgrim Road   \n",
       "6   974                                       154 Riverway   \n",
       "7   608                            610 Commonwealth Avenue   \n",
       "\n",
       "         ESPM Property Type space@BU Property Type  2006Area  \n",
       "0  Residence Hall/Dormitory            Residential  400268.0  \n",
       "1       Multifamily Housing            Residential  102126.0  \n",
       "2       Multifamily Housing            Residential   58637.0  \n",
       "3  Residence Hall/Dormitory            Residential   31106.0  \n",
       "4  Residence Hall/Dormitory            Residential   57107.0  \n",
       "5  Residence Hall/Dormitory            Residential       NaN  \n",
       "6  Residence Hall/Dormitory            Residential       NaN  \n",
       "7                Laboratory               Research  170000.0  "
      ]
     },
     "execution_count": 4,
     "metadata": {},
     "output_type": "execute_result"
    }
   ],
   "source": [
    "predictions_data"
   ]
  },
  {
   "cell_type": "code",
   "execution_count": 5,
   "metadata": {},
   "outputs": [],
   "source": [
    "years = ['2006', '2015', '2016', '2017', '2018', '2019','2020','2021']\n",
    "dataframes = []\n",
    "for year in years:\n",
    "    skiprows = 0\n",
    "    if int(year) > 2006 and int(year) <= 2016:\n",
    "        skiprows = 5\n",
    "    dataframes.append(pd.read_csv('../data/yearly-data/' + str(year) + \".csv\", skiprows = skiprows))\n"
   ]
  },
  {
   "cell_type": "code",
   "execution_count": 6,
   "metadata": {},
   "outputs": [],
   "source": [
    "dataframes[0]['Site EUI (kBTU/sf)'] = dataframes[0].apply(lambda x: eui(x['E'], x['G'], x['O'],x['Building Gross Footage']),axis = 1)\n",
    "dataframes[0]['Gross Area (sq ft)'] = dataframes[0]['Building Gross Footage']"
   ]
  },
  {
   "cell_type": "code",
   "execution_count": 7,
   "metadata": {},
   "outputs": [
    {
     "name": "stdout",
     "output_type": "stream",
     "text": [
      "Index(['Building Code', 'Address', 'Property Type', 'E', 'G', 'O',\n",
      "       'Building Gross Footage', 'Site EUI (kBTU/sf)', 'Gross Area (sq ft)'],\n",
      "      dtype='object')\n",
      "Index(['Address', '2006Area', '2006EUI'], dtype='object')\n",
      "Index(['Property Name', 'Reported', 'Property Type', 'Address', 'ZIP',\n",
      "       'Gross Area (sq ft)', 'Site EUI (kBTU/sf)', 'Energy Star Score',\n",
      "       'Energy Star Certified', 'Property Uses', 'Year Built',\n",
      "       'GHG Emissions (MTCO2e)', 'GHG Intensity (kgCO2/sf)',\n",
      "       ' Total Site Energy (kBTU) ', '% Electricity', '% Gas', '% Steam',\n",
      "       'Water Intensity (gal/sf)', 'Onsite Solar (kWh)', 'User Submitted Info',\n",
      "       'User Submitted Link', 'Tax Parcel'],\n",
      "      dtype='object')\n",
      "Index(['Address', '2015Area', '2015EUI'], dtype='object')\n",
      "Index(['Property Name', 'Reported', 'Property Type', 'Address', 'ZIP',\n",
      "       'Gross Area (sq ft)', 'Site EUI (kBTU/sf)', 'Energy Star Score',\n",
      "       'Energy Star Certified', 'Property Uses', 'Year Built',\n",
      "       'GHG Emissions (MTCO2e)', 'GHG Intensity (kgCO2/sf)',\n",
      "       ' Total Site Energy (kBTU) ', '% Electricity', '% Gas', '% Steam',\n",
      "       'Water Intensity (gal/sf)', 'Onsite Solar (kWh)', 'User Submitted Info',\n",
      "       'User Submitted Link', 'Tax Parcel', 'Years Reported'],\n",
      "      dtype='object')\n",
      "Index(['Address', '2016Area', '2016EUI'], dtype='object')\n",
      "Index(['Property Name', 'Reported', 'Property Type', 'Address', 'ZIP',\n",
      "       ' Gross Area (sq ft) ', 'Site EUI (kBTU/sf)', 'Energy Star Score',\n",
      "       'Energy Star Certified', 'Property Uses', 'Year Built',\n",
      "       'GHG Emissions (MTCO2e)', 'GHG Intensity (kgCO2/sf)',\n",
      "       ' Total Site Energy (kBTU) ', '% Electricity', '% Gas', '% Steam',\n",
      "       'Water Intensity (gal/sf)', ' Onsite Renewable (kWh) ',\n",
      "       'User Submitted Info', 'User Submitted Link', 'Tax Parcel',\n",
      "       'Years Reported'],\n",
      "      dtype='object')\n",
      "Index(['Address', '2017Area', '2017EUI'], dtype='object')\n",
      "Index(['Property Name', 'Reported', 'Property Type', 'Address', 'ZIP',\n",
      "       ' Gross Area (sq ft) ', 'Site EUI (kBTU/sf)', 'Energy Star Score',\n",
      "       'Energy Star Certified', 'Property Uses', 'Year Built',\n",
      "       'GHG Emissions (MTCO2e)', 'GHG Intensity (kgCO2/sf)',\n",
      "       ' Total Site Energy (kBTU) ', '% Electricity', '% Gas', '% Steam',\n",
      "       'Water Intensity (gal/sf)', ' Onsite Renewable (kWh) ',\n",
      "       'User Submitted Info', 'User Submitted Link', 'Tax Parcel',\n",
      "       'Years Reported'],\n",
      "      dtype='object')\n",
      "Index(['Address', '2018Area', '2018EUI'], dtype='object')\n",
      "Index(['Property Name', 'Reported', 'Property Type', 'Address', 'ZIP',\n",
      "       ' Gross Area (sq ft) ', 'Site EUI (kBTU/sf)', 'Energy Star Score',\n",
      "       'Energy Star Certified', 'Property Uses', 'Year Built',\n",
      "       ' GHG Emissions (MTCO2e) ', 'GHG Intensity (kgCO2/sf)',\n",
      "       ' Total Site Energy (kBTU) ', '% Electricity', '% Gas', '% Steam',\n",
      "       'Water Intensity (gal/sf)', ' Onsite Renewable (kWh) ',\n",
      "       'User Submitted Info', 'User Submitted Link', 'Tax Parcel',\n",
      "       'Years Reported',\n",
      "       'Covered by 5 Year Energy Action and Assessment Required in 2019',\n",
      "       '5 Year Energy Action and Assessment Compliance Status'],\n",
      "      dtype='object')\n",
      "Index(['Address', '2019Area', '2019EUI'], dtype='object')\n",
      "Index(['Property Name', 'Reported', 'Property Type', 'Address', 'ZIP',\n",
      "       ' Gross Area (sq ft) ', 'Site EUI (kBTU/sf)', 'Energy Star Score',\n",
      "       'Energy Star Certified', 'Property Uses', 'Year Built',\n",
      "       'GHG Emissions (MTCO2e)', 'GHG Intensity (kgCO2/sf)',\n",
      "       ' Total Site Energy (kBTU) ', '% Electricity', '% Gas', '% Steam',\n",
      "       '% Fuel Oil', '% District Hot Water ', '% District Chilled Water',\n",
      "       'Water Intensity (gal/sf)', ' Onsite Renewable (kWh) ',\n",
      "       'User Submitted Info', 'User Submitted Link', 'Tax Parcel',\n",
      "       'Years Reported',\n",
      "       'Covered by 5 Year Energy Action and Assessment Required in 2020',\n",
      "       '5 Year Energy Action and Assessment Compliance Status'],\n",
      "      dtype='object')\n",
      "Index(['Address', '2020Area', '2020EUI'], dtype='object')\n",
      "Index(['Property Name', 'Reported', 'Tax Parcel', 'Property Type', 'Address',\n",
      "       ' Zip', 'Gross Area (sq ft) \\r\\n', 'Site EUI (kBTU/sf)',\n",
      "       'ENERGY STAR Score', 'Energy Star Certified', 'Property Uses',\n",
      "       'Year Built', 'GHG Emissions (MTCO2e)', 'GHG Intensity (kgCO2/sf)',\n",
      "       'Total Site Energy (kBTU)', '% Electricity', '% Gas', '% Steam',\n",
      "       '% Fuel Oil', '% District Hot Water', '% District Chilled Water',\n",
      "       '% Other (Diesel #2, Kerosene, Propane or Other Fuel)',\n",
      "       'Water Intensity (gal/sf)', 'Onsite Renewable (kWh)',\n",
      "       'User Submitted Info', 'User Submitted Link'],\n",
      "      dtype='object')\n",
      "Index(['Address', '2021Area', '2021EUI'], dtype='object')\n"
     ]
    }
   ],
   "source": [
    "dataframes[0]\n",
    "# keep_columns = ['Address', 'Property Type', 'Gross Area (sq ft)', 'Site EUI (kBTU/sf)']\n",
    "keep_columns = ['Address','Gross Area (sq ft)', 'Site EUI (kBTU/sf)']\n",
    "for i in range(len(dataframes)):\n",
    "    year = years[i]\n",
    "    print(dataframes[i].columns)\n",
    "    dataframes[i].columns = dataframes[i].columns.str.strip()\n",
    "\n",
    "\n",
    "    dataframes[i] = dataframes[i].dropna(subset = ['Site EUI (kBTU/sf)'])\n",
    "    dataframes[i] = dataframes[i][keep_columns]\n",
    "    dataframes[i]['Address'] = dataframes[i]['Address'].str.lower()\n",
    "    dataframes[i]['Address'] = dataframes[i]['Address'].str.strip()\n",
    "    dataframes[i]['Address'] = dataframes[i]['Address'].str.replace(' ','')    \n",
    "\n",
    "    dataframes[i] = dataframes[i].rename(columns = {'Site EUI (kBTU/sf)' : str(year) + 'EUI', 'Gross Area (sq ft)' : str(year) + 'Area'})\n",
    "    area_ = str(year) + 'Area'\n",
    "    eui_ = str(year) + 'EUI'\n",
    "\n",
    "    dataframes[i][eui_] = dataframes[i][str(year) + \"EUI\"].apply(str)\n",
    "    dataframes[i][area_] =(dataframes[i][str(year) + 'Area']).apply(str)\n",
    "    \n",
    "\n",
    "\n",
    "  \n",
    "    dataframes[i][str(year) + 'EUI'] = dataframes[i][str(year) + 'EUI'].str.replace(',','')    \n",
    "    dataframes[i][str(year) + 'Area'] = dataframes[i][str(year) + 'Area'].str.replace(',','')    \n",
    "\n",
    " \n",
    "    \n",
    "    dataframes[i][str(year) + 'EUI'] = pd.to_numeric(dataframes[i][str(year) + \"EUI\"],errors ='coerce').fillna(0).astype('int')\n",
    "    dataframes[i][str(year) + 'Area'] = pd.to_numeric(dataframes[i][str(year) + 'Area'],errors ='coerce').fillna(0).astype('int')\n",
    "    print(dataframes[i].columns)"
   ]
  },
  {
   "cell_type": "code",
   "execution_count": 8,
   "metadata": {},
   "outputs": [],
   "source": [
    "#Join yearly data\n",
    "merged_data = dataframes[0]\n",
    "for i in range(1,len(dataframes)):\n",
    "    merged_data = merged_data.merge(dataframes[i],on ='Address', how = 'left' )\n"
   ]
  },
  {
   "cell_type": "code",
   "execution_count": 9,
   "metadata": {},
   "outputs": [],
   "source": [
    "def dist(a,b):\n",
    "    return abs(a-b)\n"
   ]
  },
  {
   "cell_type": "code",
   "execution_count": 10,
   "metadata": {},
   "outputs": [],
   "source": [
    "\n",
    "#Remove any outliers \n",
    "def remove_outlier(df_in, col_name):\n",
    "    q1 = df_in[col_name].quantile(0.25)\n",
    "    q3 = df_in[col_name].quantile(0.75)\n",
    "    iqr = q3-q1 #Interquartile range\n",
    "    fence_low  = q1-1.5*iqr\n",
    "    fence_high = q3+1.5*iqr\n",
    "    df_out = df_in.loc[(df_in[col_name] > fence_low) & (df_in[col_name] < fence_high)]\n",
    "    return df_out\n",
    "\n",
    "#Fill na\n",
    "def fill(merged_data):\n",
    "\n",
    "\n",
    "    for column_name in merged_data.columns[1:]:\n",
    "\n",
    "        if column_name[4] =='A':\n",
    "            continue\n",
    "        year = column_name[:4]\n",
    "        if int(year) <= 2006:\n",
    "            continue\n",
    "        \n",
    "        def clean_and_mean(data):\n",
    "            data = data[data['dist'] < 10000]\n",
    "            data = remove_outlier(data, year + 'EUI')\n",
    "\n",
    "            return data[year + 'EUI'].mean()\n",
    "        def find_avg(df, area):\n",
    "            df = pd.DataFrame(df)\n",
    "            df['dist'] = 0\n",
    "            df['dist'] = df.apply(lambda x: dist(area, x[year + 'Area']),axis = 1)\n",
    "\n",
    "            return clean_and_mean(df.nsmallest(30,'dist'))\n",
    "        \n",
    "        idx = years.index(year)\n",
    "        print(column_name)\n",
    "        merged_data[column_name] = merged_data.apply(lambda x: find_avg(dataframes[idx], x[str(2006) + 'Area']) if pd.isna(x[column_name]) else x[column_name],axis = 1 )\n",
    "    return merged_data  \n",
    "     "
   ]
  },
  {
   "cell_type": "code",
   "execution_count": 26,
   "metadata": {},
   "outputs": [
    {
     "name": "stdout",
     "output_type": "stream",
     "text": [
      "2015EUI\n",
      "2016EUI\n",
      "2017EUI\n",
      "2018EUI\n",
      "2019EUI\n",
      "2020EUI\n",
      "2021EUI\n"
     ]
    }
   ],
   "source": [
    "merged_data = fill(merged_data)\n",
    "data = pd.DataFrame()\n",
    "for i in years:\n",
    "    data[i] = merged_data[i + 'EUI']\n",
    "y = data['2006']\n",
    "X = data.loc[:, data.columns != '2006']\n",
    "X = X.to_numpy()\n",
    "y = y.to_numpy()\n"
   ]
  },
  {
   "cell_type": "code",
   "execution_count": 63,
   "metadata": {},
   "outputs": [],
   "source": [
    "from sklearn.model_selection import train_test_split\n",
    "\n",
    "trainX, validX, trainY, validY = train_test_split(X,y, test_size = 0.1)"
   ]
  },
  {
   "cell_type": "code",
   "execution_count": 83,
   "metadata": {},
   "outputs": [],
   "source": [
    "def build_model():\n",
    "  # Here we have sequentially: 1 input layer | 1 hidden layer | and 1 output layer\n",
    "  model = keras.Sequential([\n",
    "     \n",
    "      layers.Dense(64, activation= 'relu'),\n",
    "      layers.Dense(64, activation='relu'),\n",
    "      layers.Dense(1) # 1 because we want to return a single value with no transformations (no relu)\n",
    "  ])\n",
    "\n",
    "# initialize optimizer, loss, metrics\n",
    "  model.compile(optimizer='adam',\n",
    "                loss='mse',\n",
    "                metrics=['mae'] # using mean absolute error\n",
    "                )\n",
    "  \n",
    "  return model"
   ]
  },
  {
   "cell_type": "code",
   "execution_count": 84,
   "metadata": {},
   "outputs": [
    {
     "name": "stdout",
     "output_type": "stream",
     "text": [
      "Epoch 1/10\n",
      "4/4 [==============================] - 0s 35ms/step - loss: 3132.3528 - mae: 51.5066 - val_loss: 2571.5435 - val_mae: 43.3665\n",
      "Epoch 2/10\n",
      "4/4 [==============================] - 0s 6ms/step - loss: 1377.2662 - mae: 34.1588 - val_loss: 1109.4172 - val_mae: 27.2463\n",
      "Epoch 3/10\n",
      "4/4 [==============================] - 0s 7ms/step - loss: 538.2068 - mae: 19.7278 - val_loss: 367.8112 - val_mae: 13.5525\n",
      "Epoch 4/10\n",
      "4/4 [==============================] - 0s 7ms/step - loss: 177.5373 - mae: 8.7050 - val_loss: 95.4248 - val_mae: 5.1592\n",
      "Epoch 5/10\n",
      "4/4 [==============================] - 0s 7ms/step - loss: 82.4709 - mae: 5.8104 - val_loss: 65.6649 - val_mae: 6.2749\n",
      "Epoch 6/10\n",
      "4/4 [==============================] - 0s 19ms/step - loss: 109.1714 - mae: 8.4093 - val_loss: 93.5871 - val_mae: 8.5301\n",
      "Epoch 7/10\n",
      "4/4 [==============================] - 0s 10ms/step - loss: 129.6045 - mae: 9.8444 - val_loss: 95.1998 - val_mae: 8.6166\n",
      "Epoch 8/10\n",
      "4/4 [==============================] - 0s 7ms/step - loss: 117.5870 - mae: 9.2794 - val_loss: 78.1935 - val_mae: 7.4170\n",
      "Epoch 9/10\n",
      "4/4 [==============================] - 0s 7ms/step - loss: 94.1677 - mae: 7.7282 - val_loss: 65.4489 - val_mae: 6.2165\n",
      "Epoch 10/10\n",
      "4/4 [==============================] - 0s 7ms/step - loss: 71.4837 - mae: 6.0088 - val_loss: 70.3299 - val_mae: 5.4379\n"
     ]
    },
    {
     "data": {
      "text/plain": [
       "<keras.callbacks.History at 0x152f7f250>"
      ]
     },
     "execution_count": 84,
     "metadata": {},
     "output_type": "execute_result"
    }
   ],
   "source": [
    "model = build_model()\n",
    "model.fit(trainX, trainY, epochs= 10, validation_data= (validX, validY))"
   ]
  },
  {
   "cell_type": "code",
   "execution_count": 85,
   "metadata": {},
   "outputs": [],
   "source": [
    "predictions_data = pd.read_csv('../data/predictions.csv')"
   ]
  },
  {
   "cell_type": "code",
   "execution_count": 86,
   "metadata": {},
   "outputs": [],
   "source": [
    "predictions_data = predictions_data.dropna()\n",
    "for year in years[:]:\n",
    "    predictions_data[year + 'EUI'] = pd.NA\n",
    "\n",
    "predictions_data =  predictions_data.drop(['Code','ESPM Property Type','space@BU Property Type'], axis = 1)"
   ]
  },
  {
   "cell_type": "code",
   "execution_count": 87,
   "metadata": {},
   "outputs": [
    {
     "name": "stdout",
     "output_type": "stream",
     "text": [
      "2015EUI\n",
      "2016EUI\n",
      "2017EUI\n",
      "2018EUI\n",
      "2019EUI\n",
      "2020EUI\n",
      "2021EUI\n"
     ]
    }
   ],
   "source": [
    "predictions_data = fill(predictions_data)"
   ]
  },
  {
   "cell_type": "code",
   "execution_count": 88,
   "metadata": {},
   "outputs": [
    {
     "data": {
      "text/html": [
       "<div>\n",
       "<style scoped>\n",
       "    .dataframe tbody tr th:only-of-type {\n",
       "        vertical-align: middle;\n",
       "    }\n",
       "\n",
       "    .dataframe tbody tr th {\n",
       "        vertical-align: top;\n",
       "    }\n",
       "\n",
       "    .dataframe thead th {\n",
       "        text-align: right;\n",
       "    }\n",
       "</style>\n",
       "<table border=\"1\" class=\"dataframe\">\n",
       "  <thead>\n",
       "    <tr style=\"text-align: right;\">\n",
       "      <th></th>\n",
       "      <th>Address</th>\n",
       "      <th>2006Area</th>\n",
       "      <th>2006EUI</th>\n",
       "      <th>2015EUI</th>\n",
       "      <th>2016EUI</th>\n",
       "      <th>2017EUI</th>\n",
       "      <th>2018EUI</th>\n",
       "      <th>2019EUI</th>\n",
       "      <th>2020EUI</th>\n",
       "      <th>2021EUI</th>\n",
       "    </tr>\n",
       "  </thead>\n",
       "  <tbody>\n",
       "    <tr>\n",
       "      <th>0</th>\n",
       "      <td>33 Harry Agganis Way</td>\n",
       "      <td>400268.0</td>\n",
       "      <td>&lt;NA&gt;</td>\n",
       "      <td>66.125000</td>\n",
       "      <td>51.909091</td>\n",
       "      <td>63.100000</td>\n",
       "      <td>56.307692</td>\n",
       "      <td>79.000000</td>\n",
       "      <td>72.916667</td>\n",
       "      <td>48.818182</td>\n",
       "    </tr>\n",
       "    <tr>\n",
       "      <th>1</th>\n",
       "      <td>815 Albany Street</td>\n",
       "      <td>102126.0</td>\n",
       "      <td>&lt;NA&gt;</td>\n",
       "      <td>89.148148</td>\n",
       "      <td>70.392857</td>\n",
       "      <td>69.809524</td>\n",
       "      <td>48.000000</td>\n",
       "      <td>47.678571</td>\n",
       "      <td>55.222222</td>\n",
       "      <td>59.545455</td>\n",
       "    </tr>\n",
       "    <tr>\n",
       "      <th>2</th>\n",
       "      <td>Peabody Hall (210 Riverway)</td>\n",
       "      <td>58637.0</td>\n",
       "      <td>&lt;NA&gt;</td>\n",
       "      <td>73.185185</td>\n",
       "      <td>80.321429</td>\n",
       "      <td>64.071429</td>\n",
       "      <td>69.172414</td>\n",
       "      <td>56.500000</td>\n",
       "      <td>60.172414</td>\n",
       "      <td>53.629630</td>\n",
       "    </tr>\n",
       "    <tr>\n",
       "      <th>3</th>\n",
       "      <td>Riverway House (160-162 Riverway)</td>\n",
       "      <td>31106.0</td>\n",
       "      <td>&lt;NA&gt;</td>\n",
       "      <td>67.034483</td>\n",
       "      <td>63.857143</td>\n",
       "      <td>54.586207</td>\n",
       "      <td>55.107143</td>\n",
       "      <td>60.500000</td>\n",
       "      <td>56.172414</td>\n",
       "      <td>50.296296</td>\n",
       "    </tr>\n",
       "    <tr>\n",
       "      <th>4</th>\n",
       "      <td>Campus Center and Student Residence (150 River...</td>\n",
       "      <td>57107.0</td>\n",
       "      <td>&lt;NA&gt;</td>\n",
       "      <td>63.807692</td>\n",
       "      <td>73.730769</td>\n",
       "      <td>65.814815</td>\n",
       "      <td>75.107143</td>\n",
       "      <td>67.285714</td>\n",
       "      <td>67.137931</td>\n",
       "      <td>48.172414</td>\n",
       "    </tr>\n",
       "    <tr>\n",
       "      <th>7</th>\n",
       "      <td>610 Commonwealth Avenue</td>\n",
       "      <td>170000.0</td>\n",
       "      <td>&lt;NA&gt;</td>\n",
       "      <td>71.344828</td>\n",
       "      <td>78.766667</td>\n",
       "      <td>77.066667</td>\n",
       "      <td>78.666667</td>\n",
       "      <td>83.966667</td>\n",
       "      <td>79.724138</td>\n",
       "      <td>61.107143</td>\n",
       "    </tr>\n",
       "  </tbody>\n",
       "</table>\n",
       "</div>"
      ],
      "text/plain": [
       "                                             Address  2006Area 2006EUI  \\\n",
       "0                               33 Harry Agganis Way  400268.0    <NA>   \n",
       "1                                  815 Albany Street  102126.0    <NA>   \n",
       "2                        Peabody Hall (210 Riverway)   58637.0    <NA>   \n",
       "3                  Riverway House (160-162 Riverway)   31106.0    <NA>   \n",
       "4  Campus Center and Student Residence (150 River...   57107.0    <NA>   \n",
       "7                            610 Commonwealth Avenue  170000.0    <NA>   \n",
       "\n",
       "     2015EUI    2016EUI    2017EUI    2018EUI    2019EUI    2020EUI    2021EUI  \n",
       "0  66.125000  51.909091  63.100000  56.307692  79.000000  72.916667  48.818182  \n",
       "1  89.148148  70.392857  69.809524  48.000000  47.678571  55.222222  59.545455  \n",
       "2  73.185185  80.321429  64.071429  69.172414  56.500000  60.172414  53.629630  \n",
       "3  67.034483  63.857143  54.586207  55.107143  60.500000  56.172414  50.296296  \n",
       "4  63.807692  73.730769  65.814815  75.107143  67.285714  67.137931  48.172414  \n",
       "7  71.344828  78.766667  77.066667  78.666667  83.966667  79.724138  61.107143  "
      ]
     },
     "execution_count": 88,
     "metadata": {},
     "output_type": "execute_result"
    }
   ],
   "source": [
    "predictions_data"
   ]
  },
  {
   "cell_type": "code",
   "execution_count": 89,
   "metadata": {},
   "outputs": [],
   "source": [
    "predictions_data\n",
    "\n",
    "data = pd.DataFrame()\n",
    "\n",
    "for i in years:\n",
    "    data[i] = predictions_data[i + 'EUI']\n",
    "\n",
    "testX = data.loc[:, data.columns != '2006']\n",
    "\n",
    "testX = testX.to_numpy()\n"
   ]
  },
  {
   "cell_type": "code",
   "execution_count": 90,
   "metadata": {},
   "outputs": [
    {
     "data": {
      "text/plain": [
       "array([[5.104158 ],\n",
       "       [8.662122 ],\n",
       "       [6.8759885],\n",
       "       [5.9562964],\n",
       "       [5.331755 ],\n",
       "       [5.8242784]], dtype=float32)"
      ]
     },
     "execution_count": 90,
     "metadata": {},
     "output_type": "execute_result"
    }
   ],
   "source": [
    "model.predict(testX)"
   ]
  },
  {
   "cell_type": "code",
   "execution_count": 91,
   "metadata": {},
   "outputs": [],
   "source": [
    "data['2006'] = model.predict((testX)).flatten().tolist()\n",
    "data['Address'] = predictions_data['Address']\n",
    "data.to_csv('predicted_data.csv')"
   ]
  },
  {
   "cell_type": "code",
   "execution_count": 92,
   "metadata": {},
   "outputs": [
    {
     "data": {
      "text/plain": [
       "array([ 6, 11, 26, 12,  7,  5, 18, 32, 38,  1,  6,  4,  2,  2,  1,  6, 25,\n",
       "        4,  4,  4, 24,  1,  4,  4,  5, 12,  5,  1,  5,  6,  2,  4,  4,  8,\n",
       "        3,  3,  4,  4, 12,  4,  8,  3,  4,  2,  4,  3,  4,  5,  4, 11,  2,\n",
       "       68,  6,  5,  2,  2,  6, 35,  6,  4,  3,  4,  3,  8,  1,  7,  3,  7,\n",
       "       10,  5,  6,  6,  3,  5, 15, 11, 16, 11,  8, 40,  1,  4, 12,  4,  6,\n",
       "       11,  4,  6, 12,  2,  6,  4,  7,  4,  4,  5,  9,  1, 11, 42,  4, 12,\n",
       "        6,  0,  5,  4,  5, 33,  4,  5,  4,  3,  0,  4,  5,  3,  4,  3,  5,\n",
       "        4,  3, 15,  5,  4,  4,  3])"
      ]
     },
     "execution_count": 92,
     "metadata": {},
     "output_type": "execute_result"
    }
   ],
   "source": [
    "trainY"
   ]
  },
  {
   "cell_type": "code",
   "execution_count": 100,
   "metadata": {},
   "outputs": [
    {
     "data": {
      "text/plain": [
       "array([[5.104158 ],\n",
       "       [8.662122 ],\n",
       "       [6.8759885],\n",
       "       [5.9562964],\n",
       "       [5.331755 ],\n",
       "       [5.8242784]], dtype=float32)"
      ]
     },
     "execution_count": 100,
     "metadata": {},
     "output_type": "execute_result"
    }
   ],
   "source": [
    "model.predict(testX)"
   ]
  },
  {
   "cell_type": "code",
   "execution_count": 99,
   "metadata": {},
   "outputs": [
    {
     "data": {
      "text/plain": [
       "array([-2.66211912,  2.65321476, 12.34177303,  5.58720127, 10.75774499,\n",
       "        5.38211527])"
      ]
     },
     "execution_count": 99,
     "metadata": {},
     "output_type": "execute_result"
    }
   ],
   "source": [
    "from sklearn.linear_model import LinearRegression\n",
    "\n",
    "\n",
    "linear = LinearRegression()\n",
    "linear.fit(trainX, trainY)\n",
    "linear.score(validX, validY)\n",
    "\n",
    "\n",
    "\n",
    "linear.predict(testX)"
   ]
  },
  {
   "cell_type": "code",
   "execution_count": null,
   "metadata": {},
   "outputs": [],
   "source": []
  }
 ],
 "metadata": {
  "kernelspec": {
   "display_name": "Python 3",
   "language": "python",
   "name": "python3"
  },
  "language_info": {
   "codemirror_mode": {
    "name": "ipython",
    "version": 3
   },
   "file_extension": ".py",
   "mimetype": "text/x-python",
   "name": "python",
   "nbconvert_exporter": "python",
   "pygments_lexer": "ipython3",
   "version": "3.10.7"
  },
  "orig_nbformat": 4
 },
 "nbformat": 4,
 "nbformat_minor": 2
}
